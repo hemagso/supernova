{
 "cells": [
  {
   "cell_type": "code",
   "execution_count": 8,
   "metadata": {},
   "outputs": [
    {
     "name": "stdout",
     "output_type": "stream",
     "text": [
      "+--------------------+----------------+\n",
      "|         customer_id|observation_date|\n",
      "+--------------------+----------------+\n",
      "|9b9a46fbf7ef42d99...|      2021-05-15|\n",
      "|da1ded31d57e41898...|      2021-05-15|\n",
      "|a8f58e8cfdce41b48...|      2021-05-15|\n",
      "|d636a7e947614a09b...|      2021-05-15|\n",
      "|3aad27a4cae64ca28...|      2021-05-15|\n",
      "|21a1af01baa1438e8...|      2021-05-15|\n",
      "|7b09cbd8954a4cfaa...|      2021-05-15|\n",
      "|f83784bfd8064e2ea...|      2021-05-15|\n",
      "|b0cded25f9f042ea9...|      2021-05-15|\n",
      "|06d0e2ff15304e97b...|      2021-05-15|\n",
      "|57eed97df817444d8...|      2021-05-15|\n",
      "|d44297b089aa4603a...|      2021-05-15|\n",
      "|8a3d852c76414c51b...|      2021-05-15|\n",
      "|4b86373604e34ecca...|      2021-05-15|\n",
      "|11e8a85589a54b279...|      2021-05-15|\n",
      "|1d973b9861d54ec08...|      2021-05-15|\n",
      "|63507ca4547e48f1b...|      2021-05-15|\n",
      "|33405557128c4bb58...|      2021-05-15|\n",
      "|5f03b9c48d574412a...|      2021-05-15|\n",
      "|d89de3048ee24103b...|      2021-05-15|\n",
      "+--------------------+----------------+\n",
      "only showing top 20 rows\n",
      "\n"
     ]
    }
   ],
   "source": [
    "from pyspark.sql import SparkSession\n",
    "from datetime import date\n",
    "from pyspark.sql.functions import lit, to_date\n",
    "\n",
    "spark = SparkSession.builder.appName(\"data\").getOrCreate()\n",
    "\n",
    "individuals = spark.read.parquet(\"data/parquet/individual\")\n",
    "individuals = individuals.withColumn(\"observation_date\", to_date(lit(date(2021, 5, 15))))\n",
    "individuals.show()"
   ]
  },
  {
   "cell_type": "code",
   "execution_count": 9,
   "metadata": {},
   "outputs": [
    {
     "data": {
      "text/plain": [
       "FeatureStore(entities=[Entity(name='individual', description='Entity representing a natural person or company', keys=['customer_id']), Entity(name='account', description='Entity representing an account within the company', keys=['branch_id', 'account_id']), Entity(name='conglomerate', description='A conglomerate of companies', keys=['conglomerate_id'])], feature_sets=[FeatureSet(name='Accounts Feature Set A', description='Feature set containing data about accounts for topic A', path='data/parquet/accounts_a', mnemonic='afsa', tags=[], entity=Entity(name='account', description='Entity representing an account within the company', keys=['branch_id', 'account_id']), date_field='calculation_date', features=[Feature(name='feature_a', description='Average monthly revolving debt in the last 6 months', type=<ParquetLogicalTypes.DOUBLE: 'DOUBLE'>, tags=[], domain=[RangeDomain(type='RANGE', start=0.0, include_start=False, end=inf, include_end=True, description='Values corresponding to the debt amount'), ValueDomain(type='VALUE', value=-1, description=\"Customer don't have any revolving debt\")])]), FeatureSet(name='Individuals Feature Set A', description='Feature Set containing data about individuals for topic A', path='data/parquet/individuals_a', mnemonic='ifsa', tags=['weekly'], entity=Entity(name='individual', description='Entity representing a natural person or company', keys=['customer_id']), date_field='calculation_date', features=[Feature(name='feature_a', description='Average monthly revolving debt in the last 6 months', type=<ParquetLogicalTypes.DOUBLE: 'DOUBLE'>, tags=[], domain=[RangeDomain(type='RANGE', start=0.0, include_start=False, end=inf, include_end=True, description='Values corresponding to the debt amount'), ValueDomain(type='VALUE', value=-1, description=\"Customer don't have any revolving debt\")]), Feature(name='feature_b', description='Average monthly revolving debt in the last 3 months', type=<ParquetLogicalTypes.DOUBLE: 'DOUBLE'>, tags=[], domain=[RangeDomain(type='RANGE', start=0.0, include_start=False, end=inf, include_end=True, description='Values corresponding to the debt amount'), ValueDomain(type='VALUE', value=-1, description=\"Customer don't have any revolving debt\")]), Feature(name='feature_c', description=\"Number of months that the revolving debt exceeded 50% of the customer's income over the last 6 months\", type=<ParquetLogicalTypes.UINT8: 'UINT8'>, tags=[], domain=[RangeDomain(type='RANGE', start=0.0, include_start=True, end=6.0, include_end=True, description='Number of months'), ValueDomain(type='VALUE', value=-1, description=\"Customer don't have any revolving debt\")]), Feature(name='feature_d', description='Indicator on revolving debt usage', type=<ParquetLogicalTypes.UINT8: 'UINT8'>, tags=[], domain=[ValueDomain(type='VALUE', value=0, description=\"Customer don't have any revolving debt\"), ValueDomain(type='VALUE', value=1, description='Customer have revolving debt'), NullDomain(type='MISSING', description=\"Customer don't have any revolving debt\")])])])"
      ]
     },
     "execution_count": 9,
     "metadata": {},
     "output_type": "execute_result"
    }
   ],
   "source": [
    "from supernova.metadata import FeatureStore\n",
    "\n",
    "fs = FeatureStore.from_folder(\"docs/example\")\n",
    "fs"
   ]
  },
  {
   "cell_type": "code",
   "execution_count": 11,
   "metadata": {},
   "outputs": [
    {
     "ename": "ValueError",
     "evalue": "not enough values to unpack (expected 2, got 1)",
     "output_type": "error",
     "traceback": [
      "\u001b[0;31m---------------------------------------------------------------------------\u001b[0m",
      "\u001b[0;31mValueError\u001b[0m                                Traceback (most recent call last)",
      "\u001b[1;32m/workspace/notebooks/data.ipynb Cell 3\u001b[0m line \u001b[0;36m1\n\u001b[0;32m----> <a href='vscode-notebook-cell://dev-container%2B7b22686f737450617468223a225c5c5c5c77736c245c5c5562756e74752d32302e30345c5c686f6d655c5c68656d6167736f5c5c70726f6a6563745c5c6d6574617461626c65222c226c6f63616c446f636b6572223a66616c73652c22636f6e66696746696c65223a7b22246d6964223a312c2270617468223a222f686f6d652f68656d6167736f2f70726f6a6563742f6d6574617461626c652f2e646576636f6e7461696e65722f646576636f6e7461696e65722e6a736f6e222c22736368656d65223a227673636f64652d66696c65486f7374227d7d/workspace/notebooks/data.ipynb#W2sdnNjb2RlLXJlbW90ZQ%3D%3D?line=0'>1</a>\u001b[0m fs\u001b[39m.\u001b[39;49mquery(\u001b[39m\"\u001b[39;49m\u001b[39mifsa:*\u001b[39;49m\u001b[39m\"\u001b[39;49m)\u001b[39m.\u001b[39mexecute(spark\u001b[39m=\u001b[39mspark, entity_df\u001b[39m=\u001b[39mindividuals, pop_date_field\u001b[39m=\u001b[39m\u001b[39m\"\u001b[39m\u001b[39mobservation_date\u001b[39m\u001b[39m\"\u001b[39m)\u001b[39m.\u001b[39mshow()\n",
      "File \u001b[0;32m/workspace/supernova/metadata.py:160\u001b[0m, in \u001b[0;36mFeatureStore.query\u001b[0;34m(self, query)\u001b[0m\n\u001b[1;32m    159\u001b[0m \u001b[39mdef\u001b[39;00m \u001b[39mquery\u001b[39m(\u001b[39mself\u001b[39m, query: \u001b[39mlist\u001b[39m[\u001b[39mstr\u001b[39m]) \u001b[39m-\u001b[39m\u001b[39m>\u001b[39m Query:\n\u001b[0;32m--> 160\u001b[0m     \u001b[39mreturn\u001b[39;00m Query(\u001b[39mself\u001b[39;49m, query)\n",
      "File \u001b[0;32m/workspace/supernova/query.py:23\u001b[0m, in \u001b[0;36mQuery.__init__\u001b[0;34m(self, store, query)\u001b[0m\n\u001b[1;32m     21\u001b[0m \u001b[39mdef\u001b[39;00m \u001b[39m__init__\u001b[39m(\u001b[39mself\u001b[39m, store: FeatureStore, query: \u001b[39mlist\u001b[39m[\u001b[39mstr\u001b[39m]):\n\u001b[1;32m     22\u001b[0m     \u001b[39mself\u001b[39m\u001b[39m.\u001b[39mstore \u001b[39m=\u001b[39m store\n\u001b[0;32m---> 23\u001b[0m     \u001b[39mself\u001b[39m\u001b[39m.\u001b[39mspecs \u001b[39m=\u001b[39m \u001b[39mself\u001b[39;49m\u001b[39m.\u001b[39;49mparse(query)\n",
      "File \u001b[0;32m/workspace/supernova/query.py:37\u001b[0m, in \u001b[0;36mQuery.parse\u001b[0;34m(self, query)\u001b[0m\n\u001b[1;32m     36\u001b[0m \u001b[39mdef\u001b[39;00m \u001b[39mparse\u001b[39m(\u001b[39mself\u001b[39m, query: \u001b[39mlist\u001b[39m[\u001b[39mstr\u001b[39m]) \u001b[39m-\u001b[39m\u001b[39m>\u001b[39m \u001b[39mlist\u001b[39m[\u001b[39mtuple\u001b[39m[FeatureSet, \u001b[39mlist\u001b[39m[Feature]]]:\n\u001b[0;32m---> 37\u001b[0m     specs_raw \u001b[39m=\u001b[39m [\u001b[39mself\u001b[39;49m\u001b[39m.\u001b[39;49mparse_set(item) \u001b[39mfor\u001b[39;00m item \u001b[39min\u001b[39;00m query]\n\u001b[1;32m     38\u001b[0m     specs_parse \u001b[39m=\u001b[39m [\n\u001b[1;32m     39\u001b[0m         (feature_set, \u001b[39mself\u001b[39m\u001b[39m.\u001b[39mparse_feature(feature_set, feature_spec))\n\u001b[1;32m     40\u001b[0m         \u001b[39mfor\u001b[39;00m feature_set, feature_spec \u001b[39min\u001b[39;00m specs_raw\n\u001b[1;32m     41\u001b[0m     ]\n\u001b[1;32m     42\u001b[0m     ans: \u001b[39mdict\u001b[39m[FeatureSet, \u001b[39mlist\u001b[39m[Feature]] \u001b[39m=\u001b[39m {}\n",
      "File \u001b[0;32m/workspace/supernova/query.py:26\u001b[0m, in \u001b[0;36mQuery.parse_set\u001b[0;34m(self, item)\u001b[0m\n\u001b[1;32m     25\u001b[0m \u001b[39mdef\u001b[39;00m \u001b[39mparse_set\u001b[39m(\u001b[39mself\u001b[39m, item: \u001b[39mstr\u001b[39m) \u001b[39m-\u001b[39m\u001b[39m>\u001b[39m \u001b[39mtuple\u001b[39m[FeatureSet, \u001b[39mstr\u001b[39m]:\n\u001b[0;32m---> 26\u001b[0m     set_mnemonic, feature_spec \u001b[39m=\u001b[39m item\u001b[39m.\u001b[39msplit(\u001b[39m\"\u001b[39m\u001b[39m:\u001b[39m\u001b[39m\"\u001b[39m)\n\u001b[1;32m     27\u001b[0m     feature_set \u001b[39m=\u001b[39m \u001b[39mself\u001b[39m\u001b[39m.\u001b[39mstore\u001b[39m.\u001b[39mget_feature_set(set_mnemonic)\n\u001b[1;32m     28\u001b[0m     \u001b[39mreturn\u001b[39;00m feature_set, feature_spec\n",
      "\u001b[0;31mValueError\u001b[0m: not enough values to unpack (expected 2, got 1)"
     ]
    }
   ],
   "source": [
    "query = fs.query([\"ifsa:*\"])\n",
    "query.execute(spark=spark, entity_df=individuals, pop_date_field=\"observation_date\").show()"
   ]
  }
 ],
 "metadata": {
  "kernelspec": {
   "display_name": "supernova-xS3fZVNL-py3.12",
   "language": "python",
   "name": "python3"
  },
  "language_info": {
   "codemirror_mode": {
    "name": "ipython",
    "version": 3
   },
   "file_extension": ".py",
   "mimetype": "text/x-python",
   "name": "python",
   "nbconvert_exporter": "python",
   "pygments_lexer": "ipython3",
   "version": "3.12.0"
  }
 },
 "nbformat": 4,
 "nbformat_minor": 2
}
