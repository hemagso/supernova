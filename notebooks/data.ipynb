{
 "cells": [
  {
   "cell_type": "code",
   "execution_count": 1,
   "metadata": {},
   "outputs": [
    {
     "name": "stderr",
     "output_type": "stream",
     "text": [
      "Setting default log level to \"WARN\".\n",
      "To adjust logging level use sc.setLogLevel(newLevel). For SparkR, use setLogLevel(newLevel).\n",
      "23/11/17 01:27:18 WARN NativeCodeLoader: Unable to load native-hadoop library for your platform... using builtin-java classes where applicable\n",
      "                                                                                \r"
     ]
    },
    {
     "name": "stdout",
     "output_type": "stream",
     "text": [
      "+--------------------+----------------+\n",
      "|         customer_id|observation_date|\n",
      "+--------------------+----------------+\n",
      "|9b9a46fbf7ef42d99...|      2021-05-15|\n",
      "|da1ded31d57e41898...|      2021-05-15|\n",
      "|a8f58e8cfdce41b48...|      2021-05-15|\n",
      "|d636a7e947614a09b...|      2021-05-15|\n",
      "|3aad27a4cae64ca28...|      2021-05-15|\n",
      "|21a1af01baa1438e8...|      2021-05-15|\n",
      "|7b09cbd8954a4cfaa...|      2021-05-15|\n",
      "|f83784bfd8064e2ea...|      2021-05-15|\n",
      "|b0cded25f9f042ea9...|      2021-05-15|\n",
      "|06d0e2ff15304e97b...|      2021-05-15|\n",
      "|57eed97df817444d8...|      2021-05-15|\n",
      "|d44297b089aa4603a...|      2021-05-15|\n",
      "|8a3d852c76414c51b...|      2021-05-15|\n",
      "|4b86373604e34ecca...|      2021-05-15|\n",
      "|11e8a85589a54b279...|      2021-05-15|\n",
      "|1d973b9861d54ec08...|      2021-05-15|\n",
      "|63507ca4547e48f1b...|      2021-05-15|\n",
      "|33405557128c4bb58...|      2021-05-15|\n",
      "|5f03b9c48d574412a...|      2021-05-15|\n",
      "|d89de3048ee24103b...|      2021-05-15|\n",
      "+--------------------+----------------+\n",
      "only showing top 20 rows\n",
      "\n"
     ]
    }
   ],
   "source": [
    "from pyspark.sql import SparkSession\n",
    "from datetime import date\n",
    "from pyspark.sql.functions import lit, to_date\n",
    "\n",
    "spark = SparkSession.builder.appName(\"data\").getOrCreate()\n",
    "\n",
    "individuals = spark.read.parquet(\"data/parquet/individual\")\n",
    "individuals = individuals.withColumn(\"observation_date\", to_date(lit(date(2021, 5, 15))))\n",
    "individuals.show()"
   ]
  },
  {
   "cell_type": "code",
   "execution_count": 2,
   "metadata": {},
   "outputs": [
    {
     "data": {
      "text/plain": [
       "FeatureStore(entities=[Entity(name='individual', description='Entity representing a natural person or company', keys=['customer_id']), Entity(name='account', description='Entity representing an account within the company', keys=['branch_id', 'account_id']), Entity(name='conglomerate', description='A conglomerate of companies', keys=['conglomerate_id'])], feature_sets=[FeatureSet(name='Accounts Feature Set A', description='Feature set containing data about accounts for topic A', path='data/parquet/accounts_a', mnemonic='afsa', tags=[], entity=Entity(name='account', description='Entity representing an account within the company', keys=['branch_id', 'account_id']), date_field='calculation_date', features=[Feature(name='feature_a', description='Average monthly revolving debt in the last 6 months', type=<ParquetLogicalTypes.DOUBLE: 'DOUBLE'>, tags=[], domain=[RangeDomain(type='RANGE', start=0.0, include_start=False, end=inf, include_end=True, description='Values corresponding to the debt amount'), ValueDomain(type='VALUE', value=-1, description=\"Customer don't have any revolving debt\")])]), FeatureSet(name='Individuals Feature Set A', description='Feature Set containing data about individuals for topic A', path='data/parquet/individuals_a', mnemonic='ifsa', tags=['weekly'], entity=Entity(name='individual', description='Entity representing a natural person or company', keys=['customer_id']), date_field='calculation_date', features=[Feature(name='feature_a', description='Average monthly revolving debt in the last 6 months', type=<ParquetLogicalTypes.DOUBLE: 'DOUBLE'>, tags=[], domain=[RangeDomain(type='RANGE', start=0.0, include_start=False, end=inf, include_end=True, description='Values corresponding to the debt amount'), ValueDomain(type='VALUE', value=-1, description=\"Customer don't have any revolving debt\")]), Feature(name='feature_b', description='Average monthly revolving debt in the last 3 months', type=<ParquetLogicalTypes.DOUBLE: 'DOUBLE'>, tags=[], domain=[RangeDomain(type='RANGE', start=0.0, include_start=False, end=inf, include_end=True, description='Values corresponding to the debt amount'), ValueDomain(type='VALUE', value=-1, description=\"Customer don't have any revolving debt\")]), Feature(name='feature_c', description=\"Number of months that the revolving debt exceeded 50% of the customer's income over the last 6 months\", type=<ParquetLogicalTypes.UINT8: 'UINT8'>, tags=[], domain=[RangeDomain(type='RANGE', start=0.0, include_start=True, end=6.0, include_end=True, description='Number of months'), ValueDomain(type='VALUE', value=-1, description=\"Customer don't have any revolving debt\")]), Feature(name='feature_d', description='Indicator on revolving debt usage', type=<ParquetLogicalTypes.UINT8: 'UINT8'>, tags=[], domain=[ValueDomain(type='VALUE', value=0, description=\"Customer don't have any revolving debt\"), ValueDomain(type='VALUE', value=1, description='Customer have revolving debt'), NullDomain(type='MISSING', description=\"Customer don't have any revolving debt\")])])])"
      ]
     },
     "execution_count": 2,
     "metadata": {},
     "output_type": "execute_result"
    }
   ],
   "source": [
    "from supernova.metadata import FeatureStore\n",
    "\n",
    "fs = FeatureStore.from_folder(\"docs/example\")\n",
    "fs"
   ]
  },
  {
   "cell_type": "code",
   "execution_count": 3,
   "metadata": {},
   "outputs": [
    {
     "name": "stderr",
     "output_type": "stream",
     "text": [
      "                                                                                \r"
     ]
    },
    {
     "name": "stdout",
     "output_type": "stream",
     "text": [
      "+--------------------+----------------+--------------------+--------------+--------------+--------------+--------------+---------------------+\n",
      "|         customer_id|observation_date|    ifsa_customer_id|ifsa_feature_a|ifsa_feature_b|ifsa_feature_c|ifsa_feature_d|ifsa_calculation_date|\n",
      "+--------------------+----------------+--------------------+--------------+--------------+--------------+--------------+---------------------+\n",
      "|00a03d7989c9429fa...|      2021-05-15|00a03d7989c9429fa...|          5.39|          -1.0|             2|             1|           2021-05-14|\n",
      "|00d384795fda425bb...|      2021-05-15|00d384795fda425bb...|          -1.0|          -1.0|            -1|             1|           2021-05-14|\n",
      "|00d735df2aff4c218...|      2021-05-15|00d735df2aff4c218...|      89841.07|      90207.77|            -1|             0|           2021-05-14|\n",
      "|01779326d7f44a3f9...|      2021-05-15|01779326d7f44a3f9...|      13952.48|          -1.0|             2|          NULL|           2021-05-14|\n",
      "|01800c2abaae492fb...|      2021-05-15|01800c2abaae492fb...|          -1.0|          -1.0|            -1|             1|           2021-05-14|\n",
      "|02168db35b05422fa...|      2021-05-15|02168db35b05422fa...|      21721.92|          -1.0|             4|             0|           2021-05-14|\n",
      "|0235fc81449a4432a...|      2021-05-15|0235fc81449a4432a...|      95605.77|      97736.78|             3|             0|           2021-05-14|\n",
      "|0240a8ef9b9f4168b...|      2021-05-15|0240a8ef9b9f4168b...|          -1.0|          -1.0|            -1|          NULL|           2021-04-30|\n",
      "|02c939727d304d6c8...|      2021-05-15|02c939727d304d6c8...|      32246.11|       17134.4|            -1|          NULL|           2021-05-14|\n",
      "|02e79a54ea134b71a...|      2021-05-15|02e79a54ea134b71a...|      92014.82|          -1.0|             3|             1|           2021-05-14|\n",
      "|02f4f4003dc24bc68...|      2021-05-15|02f4f4003dc24bc68...|       82586.8|      53554.79|            -1|             1|           2021-05-14|\n",
      "|034c5a63c25b4674a...|      2021-05-15|034c5a63c25b4674a...|          -1.0|      53877.17|            -1|          NULL|           2021-05-14|\n",
      "|034d47cfa1034c4e9...|      2021-05-15|034d47cfa1034c4e9...|       35335.0|          -1.0|             1|          NULL|           2021-05-14|\n",
      "|037f8fdfb6b04df5b...|      2021-05-15|037f8fdfb6b04df5b...|          -1.0|          -1.0|            -1|          NULL|           2021-05-07|\n",
      "|04015afbcc9142bda...|      2021-05-15|04015afbcc9142bda...|          -1.0|          -1.0|             1|             1|           2021-05-14|\n",
      "|04017589664c4043a...|      2021-05-15|04017589664c4043a...|          -1.0|          -1.0|            -1|             1|           2021-05-14|\n",
      "|0434a2d0f056474f8...|      2021-05-15|0434a2d0f056474f8...|          -1.0|          -1.0|            -1|             1|           2021-05-14|\n",
      "|04709215b1d243ea8...|      2021-05-15|04709215b1d243ea8...|       32631.8|      44743.02|            -1|             0|           2021-05-14|\n",
      "|048b2cb4e01844728...|      2021-05-15|048b2cb4e01844728...|      35857.58|          -1.0|            -1|             0|           2021-05-14|\n",
      "|048c08a9556542b29...|      2021-05-15|048c08a9556542b29...|      39129.74|       54533.2|             4|          NULL|           2021-05-14|\n",
      "+--------------------+----------------+--------------------+--------------+--------------+--------------+--------------+---------------------+\n",
      "only showing top 20 rows\n",
      "\n"
     ]
    }
   ],
   "source": [
    "query = fs.query([\"ifsa:*\"])\n",
    "query.execute(spark=spark, entity_df=individuals, pop_date_field=\"observation_date\").show()"
   ]
  }
 ],
 "metadata": {
  "kernelspec": {
   "display_name": "supernova-xS3fZVNL-py3.12",
   "language": "python",
   "name": "python3"
  },
  "language_info": {
   "codemirror_mode": {
    "name": "ipython",
    "version": 3
   },
   "file_extension": ".py",
   "mimetype": "text/x-python",
   "name": "python",
   "nbconvert_exporter": "python",
   "pygments_lexer": "ipython3",
   "version": "3.12.0"
  }
 },
 "nbformat": 4,
 "nbformat_minor": 2
}
